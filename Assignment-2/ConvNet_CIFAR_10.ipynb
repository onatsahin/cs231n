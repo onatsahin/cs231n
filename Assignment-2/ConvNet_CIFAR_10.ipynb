{
 "cells": [
  {
   "cell_type": "code",
   "execution_count": 1,
   "metadata": {
    "colab": {
     "autoexec": {
      "startup": false,
      "wait_interval": 0
     },
     "base_uri": "https://localhost:8080/",
     "height": 53
    },
    "colab_type": "code",
    "executionInfo": {
     "elapsed": 9770,
     "status": "ok",
     "timestamp": 1532601386675,
     "user": {
      "displayName": "Onat Şahin",
      "photoUrl": "//lh6.googleusercontent.com/-57Ekp_Xa_80/AAAAAAAAAAI/AAAAAAAAAE8/Y1YBYW7QsNk/s50-c-k-no/photo.jpg",
      "userId": "100373632267181897772"
     },
     "user_tz": -180
    },
    "id": "wH1rj4M6KIip",
    "outputId": "2a531e41-3433-43d9-aaaa-2ceafe009668"
   },
   "outputs": [
    {
     "name": "stdout",
     "output_type": "stream",
     "text": [
      "0.4.0\n",
      "True\n"
     ]
    }
   ],
   "source": [
    "from os import path\n",
    "from wheel.pep425tags import get_abbr_impl, get_impl_ver, get_abi_tag\n",
    "platform = '{}{}-{}'.format(get_abbr_impl(), get_impl_ver(), get_abi_tag())\n",
    "\n",
    "accelerator = 'cu80' if path.exists('/opt/bin/nvidia-smi') else 'cpu'\n",
    "\n",
    "!pip install -q http://download.pytorch.org/whl/{accelerator}/torch-0.4.0-{platform}-linux_x86_64.whl torchvision\n",
    "import torch\n",
    "print(torch.__version__)\n",
    "print(torch.cuda.is_available())"
   ]
  },
  {
   "cell_type": "code",
   "execution_count": 0,
   "metadata": {
    "colab": {
     "autoexec": {
      "startup": false,
      "wait_interval": 0
     }
    },
    "colab_type": "code",
    "id": "qGOKvdceKL_T"
   },
   "outputs": [],
   "source": [
    "import torch\n",
    "import torch.nn as nn\n",
    "import torch.optim as optim\n",
    "from torch.utils.data import DataLoader\n",
    "from torch.utils.data import sampler\n",
    "\n",
    "import torchvision.datasets as dset\n",
    "import torchvision.transforms as T\n",
    "import torch.nn.functional as F\n",
    "\n",
    "import numpy as np"
   ]
  },
  {
   "cell_type": "code",
   "execution_count": 3,
   "metadata": {
    "colab": {
     "autoexec": {
      "startup": false,
      "wait_interval": 0
     },
     "base_uri": "https://localhost:8080/",
     "height": 71
    },
    "colab_type": "code",
    "executionInfo": {
     "elapsed": 4231,
     "status": "ok",
     "timestamp": 1532601498587,
     "user": {
      "displayName": "Onat Şahin",
      "photoUrl": "//lh6.googleusercontent.com/-57Ekp_Xa_80/AAAAAAAAAAI/AAAAAAAAAE8/Y1YBYW7QsNk/s50-c-k-no/photo.jpg",
      "userId": "100373632267181897772"
     },
     "user_tz": -180
    },
    "id": "FsGtqjRtKYzV",
    "outputId": "27dbcb67-b01a-4d6d-9559-0b60e9e2b595"
   },
   "outputs": [
    {
     "name": "stdout",
     "output_type": "stream",
     "text": [
      "Files already downloaded and verified\n",
      "Files already downloaded and verified\n",
      "Files already downloaded and verified\n"
     ]
    }
   ],
   "source": [
    "NUM_TRAIN = 49000\n",
    "\n",
    "# The torchvision.transforms package provides tools for preprocessing data\n",
    "# and for performing data augmentation; here we set up a transform to\n",
    "# preprocess the data by subtracting the mean RGB value and dividing by the\n",
    "# standard deviation of each RGB value; we've hardcoded the mean and std.\n",
    "transform = T.Compose([\n",
    "                T.ToTensor(),\n",
    "                T.Normalize((0.4914, 0.4822, 0.4465), (0.2023, 0.1994, 0.2010))\n",
    "            ])\n",
    "\n",
    "# We set up a Dataset object for each split (train / val / test); Datasets load\n",
    "# training examples one at a time, so we wrap each Dataset in a DataLoader which\n",
    "# iterates through the Dataset and forms minibatches. We divide the CIFAR-10\n",
    "# training set into train and val sets by passing a Sampler object to the\n",
    "# DataLoader telling how it should sample from the underlying Dataset.\n",
    "cifar10_train = dset.CIFAR10('./cs231n/datasets', train=True, download=True,\n",
    "                             transform=transform)\n",
    "loader_train = DataLoader(cifar10_train, batch_size=64, \n",
    "                          sampler=sampler.SubsetRandomSampler(range(NUM_TRAIN)))\n",
    "\n",
    "cifar10_val = dset.CIFAR10('./cs231n/datasets', train=True, download=True,\n",
    "                           transform=transform)\n",
    "loader_val = DataLoader(cifar10_val, batch_size=64, \n",
    "                        sampler=sampler.SubsetRandomSampler(range(NUM_TRAIN, 50000)))\n",
    "\n",
    "cifar10_test = dset.CIFAR10('./cs231n/datasets', train=False, download=True, \n",
    "                            transform=transform)\n",
    "loader_test = DataLoader(cifar10_test, batch_size=64)"
   ]
  },
  {
   "cell_type": "code",
   "execution_count": 4,
   "metadata": {
    "colab": {
     "autoexec": {
      "startup": false,
      "wait_interval": 0
     },
     "base_uri": "https://localhost:8080/",
     "height": 35
    },
    "colab_type": "code",
    "executionInfo": {
     "elapsed": 737,
     "status": "ok",
     "timestamp": 1532601502118,
     "user": {
      "displayName": "Onat Şahin",
      "photoUrl": "//lh6.googleusercontent.com/-57Ekp_Xa_80/AAAAAAAAAAI/AAAAAAAAAE8/Y1YBYW7QsNk/s50-c-k-no/photo.jpg",
      "userId": "100373632267181897772"
     },
     "user_tz": -180
    },
    "id": "SJGDbeXKKb1_",
    "outputId": "2ff8fd29-5245-424f-9f4e-e79008a64708"
   },
   "outputs": [
    {
     "name": "stdout",
     "output_type": "stream",
     "text": [
      "using device: cuda\n"
     ]
    }
   ],
   "source": [
    "USE_GPU = True\n",
    "\n",
    "dtype = torch.float32 # we will be using float throughout this tutorial\n",
    "\n",
    "if USE_GPU and torch.cuda.is_available():\n",
    "    device = torch.device('cuda')\n",
    "else:\n",
    "    device = torch.device('cpu')\n",
    "\n",
    "# Constant to control how frequently we print train loss\n",
    "print_every = 100\n",
    "\n",
    "print('using device:', device)"
   ]
  },
  {
   "cell_type": "code",
   "execution_count": 0,
   "metadata": {
    "colab": {
     "autoexec": {
      "startup": false,
      "wait_interval": 0
     }
    },
    "colab_type": "code",
    "id": "OD9JOMtMKenN"
   },
   "outputs": [],
   "source": [
    "def check_accuracy_part34(loader, model):\n",
    "    if loader.dataset.train:\n",
    "        print('Checking accuracy on validation set')\n",
    "    else:\n",
    "        print('Checking accuracy on test set')   \n",
    "    num_correct = 0\n",
    "    num_samples = 0\n",
    "    model.eval()  # set model to evaluation mode\n",
    "    with torch.no_grad():\n",
    "        for x, y in loader:\n",
    "            x = x.to(device=device, dtype=dtype)  # move to device, e.g. GPU\n",
    "            y = y.to(device=device, dtype=torch.long)\n",
    "            scores = model(x)\n",
    "            _, preds = scores.max(1)\n",
    "            num_correct += (preds == y).sum()\n",
    "            num_samples += preds.size(0)\n",
    "        acc = float(num_correct) / num_samples\n",
    "        print('Got %d / %d correct (%.2f)' % (num_correct, num_samples, 100 * acc))"
   ]
  },
  {
   "cell_type": "code",
   "execution_count": 0,
   "metadata": {
    "colab": {
     "autoexec": {
      "startup": false,
      "wait_interval": 0
     }
    },
    "colab_type": "code",
    "id": "07R481UUKhRY"
   },
   "outputs": [],
   "source": [
    "def train_part34(optimizer, epochs, model=None, save_file=None, load_file=None):\n",
    "    \"\"\"\n",
    "    Train a model on CIFAR-10 using the PyTorch Module API.\n",
    "    \n",
    "    Inputs:\n",
    "    - model: A PyTorch Module giving the model to train.\n",
    "    - optimizer: An Optimizer object we will use to train the model\n",
    "    - epochs: (Optional) A Python integer giving the number of epochs to train for\n",
    "    \n",
    "    Returns: Nothing, but prints model accuracies during training.\n",
    "    \"\"\"\n",
    "    if load_file:\n",
    "        model = torch.load(load_file)\n",
    "        \n",
    "    model = model.to(device=device)  # move the model parameters to CPU/GPU\n",
    "    for e in range(epochs):\n",
    "        print('Epoch: ', e+1)\n",
    "        for t, (x, y) in enumerate(loader_train):\n",
    "            model.train()  # put model to training mode\n",
    "            x = x.to(device=device, dtype=dtype)  # move to device, e.g. GPU\n",
    "            y = y.to(device=device, dtype=torch.long)\n",
    "\n",
    "            scores = model(x)\n",
    "            loss = F.cross_entropy(scores, y)\n",
    "\n",
    "            # Zero out all of the gradients for the variables which the optimizer\n",
    "            # will update.\n",
    "            optimizer.zero_grad()\n",
    "\n",
    "            # This is the backwards pass: compute the gradient of the loss with\n",
    "            # respect to each  parameter of the model.\n",
    "            loss.backward()\n",
    "\n",
    "            # Actually update the parameters of the model using the gradients\n",
    "            # computed by the backwards pass.\n",
    "            optimizer.step()\n",
    "\n",
    "            if t % print_every == 0:\n",
    "                print('Iteration %d, loss = %.4f' % (t, loss.item()))\n",
    "                check_accuracy_part34(loader_val, model)\n",
    "                print()\n",
    "        \n",
    "        if e % 5 == 0:\n",
    "            torch.save(model, save_file)"
   ]
  },
  {
   "cell_type": "code",
   "execution_count": 0,
   "metadata": {
    "colab": {
     "autoexec": {
      "startup": false,
      "wait_interval": 0
     }
    },
    "colab_type": "code",
    "id": "DF93zQ91KkQ-"
   },
   "outputs": [],
   "source": [
    "def flatten(x):\n",
    "    N = x.shape[0] # read in N, C, H, W\n",
    "    return x.view(N, -1)  # \"flatten\" the C * H * W values into a single vector per image\n",
    "\n",
    "class Flatten(nn.Module):\n",
    "    def forward(self, x):\n",
    "        return flatten(x)"
   ]
  },
  {
   "cell_type": "code",
   "execution_count": null,
   "metadata": {
    "colab": {
     "autoexec": {
      "startup": false,
      "wait_interval": 0
     },
     "base_uri": "https://localhost:8080/",
     "height": 1811
    },
    "colab_type": "code",
    "executionInfo": {
     "elapsed": 32640,
     "status": "error",
     "timestamp": 1532607562775,
     "user": {
      "displayName": "Onat Şahin",
      "photoUrl": "//lh6.googleusercontent.com/-57Ekp_Xa_80/AAAAAAAAAAI/AAAAAAAAAE8/Y1YBYW7QsNk/s50-c-k-no/photo.jpg",
      "userId": "100373632267181897772"
     },
     "user_tz": -180
    },
    "id": "p4R-_WsOKnfU",
    "outputId": "5aa5edc0-0503-4fd8-f9a5-50a0e7881ec9"
   },
   "outputs": [],
   "source": [
    "################################################################################\n",
    "# TODO:                                                                        #         \n",
    "# Experiment with any architectures, optimizers, and hyperparameters.          #\n",
    "# Achieve AT LEAST 70% accuracy on the *validation set* within 10 epochs.      #\n",
    "#                                                                              #\n",
    "# Note that you can use the check_accuracy function to evaluate on either      #\n",
    "# the test set or the validation set, by passing either loader_test or         #\n",
    "# loader_val as the second argument to check_accuracy. You should not touch    #\n",
    "# the test set until you have finished your architecture and  hyperparameter   #\n",
    "# tuning, and only run the test set once at the end to report a final value.   #\n",
    "################################################################################\n",
    "model = None\n",
    "optimizer = None\n",
    "\n",
    "channel_1 = 32\n",
    "channel_2 = 32\n",
    "channel_3 = 64\n",
    "channel_4 = 64\n",
    "channel_5 = 128\n",
    "channel_6 = 128\n",
    "learning_rate = 0.5e-3\n",
    "\n",
    "\n",
    "\n",
    "model = nn.Sequential(nn.Conv2d(3, channel_1, (3,3), padding=1), \n",
    "                      nn.ReLU(),\n",
    "                      nn.MaxPool2d((2,2)),\n",
    "                      nn.Dropout2d(p=0.3),                \n",
    "                      \n",
    "                      nn.Conv2d(channel_1, channel_2, (3,3), padding=1),\n",
    "                      nn.ReLU(),            \n",
    "                      nn.MaxPool2d((2,2)),\n",
    "                      \n",
    "                      nn.Conv2d(channel_2, channel_3, (3,3), padding=1),\n",
    "                      nn.ReLU(),\n",
    "                      nn.Dropout2d(p=0.3),                     \n",
    "                      \n",
    "                      nn.Conv2d(channel_3, channel_4, (3,3), padding=1),\n",
    "                      nn.ReLU(),\n",
    "                      nn.MaxPool2d((2,2)),\n",
    "                      \n",
    "                      nn.Conv2d(channel_4, channel_5, (3,3), padding=1),\n",
    "                      nn.ReLU(),\n",
    "                      nn.Dropout2d(p=0.3), \n",
    "                      \n",
    "                      nn.Conv2d(channel_5, channel_6, (3,3), padding=1),\n",
    "                      nn.ReLU(),\n",
    "                      nn.MaxPool2d((2,2)),\n",
    "                      \n",
    "                      Flatten(),\n",
    "                      nn.Dropout(p=0.3), \n",
    "                      nn.Linear(channel_6*2*2, 500),\n",
    "                      nn.Dropout2d(p=0.3), \n",
    "                      nn.Linear(500, 10),\n",
    "        )\n",
    "\n",
    "optimizer = optim.Adam(model.parameters(), lr=learning_rate)\n",
    "################################################################################\n",
    "#                                 END OF YOUR CODE                             \n",
    "################################################################################\n",
    "\n",
    "# You should get at least 70% accuracy\n",
    "#train_part34(optimizer, epochs=5, save_file='model4.pt', load_file='model3.pt')\n",
    "\n",
    "train_part34(optimizer, epochs=50, model=model, save_file='model3.pt')"
   ]
  },
  {
   "cell_type": "code",
   "execution_count": 41,
   "metadata": {
    "colab": {
     "autoexec": {
      "startup": false,
      "wait_interval": 0
     },
     "base_uri": "https://localhost:8080/",
     "height": 53
    },
    "colab_type": "code",
    "executionInfo": {
     "elapsed": 3817,
     "status": "ok",
     "timestamp": 1532609854771,
     "user": {
      "displayName": "Onat Şahin",
      "photoUrl": "//lh6.googleusercontent.com/-57Ekp_Xa_80/AAAAAAAAAAI/AAAAAAAAAE8/Y1YBYW7QsNk/s50-c-k-no/photo.jpg",
      "userId": "100373632267181897772"
     },
     "user_tz": -180
    },
    "id": "PENxu5DCK1bS",
    "outputId": "0e202f6f-49e4-4dc0-ce78-6201c4230fc3"
   },
   "outputs": [
    {
     "name": "stdout",
     "output_type": "stream",
     "text": [
      "Checking accuracy on test set\n",
      "Got 7768 / 10000 correct (77.68)\n"
     ]
    }
   ],
   "source": [
    "model = torch.load('model3.pt')\n",
    "best_model = model\n",
    "check_accuracy_part34(loader_test, best_model)"
   ]
  },
  {
   "cell_type": "code",
   "execution_count": 0,
   "metadata": {
    "colab": {
     "autoexec": {
      "startup": false,
      "wait_interval": 0
     }
    },
    "colab_type": "code",
    "id": "pTJx_771ONTr"
   },
   "outputs": [],
   "source": []
  }
 ],
 "metadata": {
  "accelerator": "GPU",
  "colab": {
   "collapsed_sections": [],
   "default_view": {},
   "name": "ConvNet_CIFAR-10.ipynb",
   "provenance": [],
   "version": "0.3.2",
   "views": {}
  },
  "kernelspec": {
   "display_name": "Python [default]",
   "language": "python",
   "name": "python3"
  },
  "language_info": {
   "codemirror_mode": {
    "name": "ipython",
    "version": 3
   },
   "file_extension": ".py",
   "mimetype": "text/x-python",
   "name": "python",
   "nbconvert_exporter": "python",
   "pygments_lexer": "ipython3",
   "version": "3.6.0"
  }
 },
 "nbformat": 4,
 "nbformat_minor": 1
}
